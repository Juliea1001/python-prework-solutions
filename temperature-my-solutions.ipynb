{
 "cells": [
  {
   "cell_type": "markdown",
   "metadata": {},
   "source": [
    "<img src=\"https://bit.ly/2VnXWr2\" width=\"100\" align=\"left\">"
   ]
  },
  {
   "cell_type": "markdown",
   "metadata": {},
   "source": [
    "# Temperature Sensor\n",
    "\n",
    "There is a temperature sensor in the processor of your company's server. The company wants to analyze the data provided by the sensor to decide if they should change the cooling system for a better one. As changing the cooling system is expensive and you are an excellent data analyst, you can't make a decision without basis.\n",
    "\n",
    "## Tools\n",
    "You don't necessarily need to use all the tools. Maybe you opt to use some of them or completely different ones, they are given to help you shape the exercise. Programming exercises can be solved in many different ways.\n",
    "1. Data structures: **lists**\n",
    "2. Loops: **list comprehension**\n",
    "3. Functions: **min, max, print, len**\n",
    "4. Conditional statements: **if-elif-else**\n",
    "\n",
    "## Tasks\n",
    "The temperatures measured throughout the 24 hours of a day are:"
   ]
  },
  {
   "cell_type": "code",
   "execution_count": 2,
   "metadata": {},
   "outputs": [],
   "source": [
    "temperatures_C = [33, 66, 65, 0, 59, 60, 62, 64, 70, 76, 80, 81, 80, 83, 90, 79, 61, 53, 50, 49, 53, 48, 45, 39]"
   ]
  },
  {
   "cell_type": "markdown",
   "metadata": {},
   "source": [
    "The first element of the list is the temperature at 12am, the second element is the temperature at 1am, and so on. \n",
    "\n",
    "The company has decided that if one of the following events occurs, then the cooling system needs to be replaced for a new one to avoid damaging the processor.\n",
    "* More than 4 temperatures are greater than or equal to 70ºC.\n",
    "* Any temperature is above 80ºC.\n",
    "* The average temperature exceeds 65ºC.\n",
    "\n",
    "Follow the steps so that you can make the decision.\n",
    "\n",
    "#### 1. Find the minimum temperature of the day and store it in a variable."
   ]
  },
  {
   "cell_type": "code",
   "execution_count": 3,
   "metadata": {},
   "outputs": [
    {
     "name": "stdout",
     "output_type": "stream",
     "text": [
      "0\n"
     ]
    }
   ],
   "source": [
    "min_day=min(temperatures_C)\n",
    "print(min_day)\n"
   ]
  },
  {
   "cell_type": "markdown",
   "metadata": {},
   "source": [
    "#### 2. Find the maximum temperature of the day and store it in a variable."
   ]
  },
  {
   "cell_type": "code",
   "execution_count": 4,
   "metadata": {},
   "outputs": [
    {
     "name": "stdout",
     "output_type": "stream",
     "text": [
      "90\n"
     ]
    }
   ],
   "source": [
    "max_day=max(temperatures_C)\n",
    "print(max_day)"
   ]
  },
  {
   "cell_type": "markdown",
   "metadata": {},
   "source": [
    "#### 3. Create a list with the temperatures that are greater than or equal to 70ºC. Store it in a variable."
   ]
  },
  {
   "cell_type": "code",
   "execution_count": 5,
   "metadata": {},
   "outputs": [
    {
     "name": "stdout",
     "output_type": "stream",
     "text": [
      "[70, 76, 80, 81, 80, 83, 90, 79]\n"
     ]
    }
   ],
   "source": [
    "gr_eq_70=[]\n",
    "i=0\n",
    "for i in range (0,len(temperatures_C)):\n",
    "    if temperatures_C[i]>=70:\n",
    "        gr_eq_70.append(temperatures_C[i])\n",
    "        i+=1\n",
    "    else:\n",
    "        i+=1\n",
    "print(gr_eq_70)"
   ]
  },
  {
   "cell_type": "markdown",
   "metadata": {},
   "source": [
    "#### 4. Find the average temperature of the day and store it in a variable."
   ]
  },
  {
   "cell_type": "code",
   "execution_count": 6,
   "metadata": {},
   "outputs": [
    {
     "name": "stdout",
     "output_type": "stream",
     "text": [
      "60.25\n"
     ]
    }
   ],
   "source": [
    "temp_averg= sum(temperatures_C)/len(temperatures_C)\n",
    "print(temp_averg)"
   ]
  },
  {
   "cell_type": "markdown",
   "metadata": {},
   "source": [
    "#### 5. Imagine that there was a sensor failure at 3am and the data for that specific hour was not recorded. How would you estimate the missing value? Replace the current value of the list at 3am for an estimation. "
   ]
  },
  {
   "cell_type": "code",
   "execution_count": 7,
   "metadata": {},
   "outputs": [
    {
     "name": "stdout",
     "output_type": "stream",
     "text": [
      "[33, 66, 65, 0, 59, 60, 62, 64, 70, 76, 80, 81, 80, 83, 90, 60.25, 61, 53, 50, 49, 53, 48, 45, 39]\n"
     ]
    }
   ],
   "source": [
    "temperatures_C[-9]=60.25\n",
    "print(temperatures_C)"
   ]
  },
  {
   "cell_type": "markdown",
   "metadata": {},
   "source": [
    "#### 6. Bonus: the maintenance staff is from the United States and does not understand the international metric system. Help them by converting the temperatures from Celsius to Fahrenheit.\n",
    "To know more about temperature conversion check this [link](https://en.wikipedia.org/wiki/Conversion_of_units_of_temperature).\n",
    "\n",
    "**Formula**: \n",
    "\n",
    "$F = 1.8 * C + 32$"
   ]
  },
  {
   "cell_type": "code",
   "execution_count": 8,
   "metadata": {},
   "outputs": [
    {
     "name": "stdout",
     "output_type": "stream",
     "text": [
      "[91.4, 150.8, 149.0, 32.0, 138.2, 140.0, 143.60000000000002, 147.2, 158.0, 168.8, 176.0, 177.8, 176.0, 181.4, 194.0, 140.45, 141.8, 127.4, 122.0, 120.2, 127.4, 118.4, 113.0, 102.2]\n"
     ]
    }
   ],
   "source": [
    "temperatures_F= []\n",
    "i=0\n",
    "for i in range (0,len(temperatures_C)):\n",
    "    temp_F=temperatures_C[i]*1.8 + 32\n",
    "    temperatures_F.append(temp_F)\n",
    "    i+=1\n",
    "print(temperatures_F)"
   ]
  },
  {
   "cell_type": "markdown",
   "metadata": {},
   "source": [
    "#### 7. Make a decision!\n",
    "Now it's time to make a decision taking into account what you have seen until now. \n",
    "\n",
    "Remember that if one of the following events occurs, then the cooling system needs to be replaced for a new one to avoid damaging the processor.\n",
    "* More than 4 temperatures are greater than or equal to 70ºC.\n",
    "* Any temperature is above 80ºC.\n",
    "* The average temperature exceeds 65ºC.\n",
    "\n",
    "#### To make your decision, check if any of the three conditions above is met. You might need to use some of the variables you created in steps 1 to 6. Print a message to show if the cooling system needs to be changed or not."
   ]
  },
  {
   "cell_type": "code",
   "execution_count": 9,
   "metadata": {},
   "outputs": [
    {
     "name": "stdout",
     "output_type": "stream",
     "text": [
      "The cooling system needs to be changed.\n"
     ]
    }
   ],
   "source": [
    "if len(gr_eq_70)> 4:\n",
    "    print(\"The cooling system needs to be changed.\")\n",
    "elif max_day > 80:\n",
    "    print(\"The cooling system needs to be changed.\")\n",
    "elif temp_averg > 65:\n",
    "    print(\"The cooling system needs to be changed.\")\n",
    "else:\n",
    "    print(\"The cooling system does not need to be changed.\")"
   ]
  },
  {
   "cell_type": "markdown",
   "metadata": {},
   "source": [
    "## Bonus\n",
    "\n",
    "The company has decided that the decision you made is not valid. They want you to analyze the data again but this time, the conditions that need to be met in order to change the cooling system are different.\n",
    "\n",
    "This time, if one of the following events occurs, then the cooling system needs to be replaced:\n",
    "* The temperature is greater than 70ºC during more than 4 consecutive hours.\n",
    "* Any temperature is above 80ºC.\n",
    "* The average temperature exceeds 65ºC.\n",
    "\n",
    "Follow the steps so that you can make the decision.\n",
    "\n",
    "#### 1. Create a list with the hours where the temperature is greater than 70ºC. Store it in a variable."
   ]
  },
  {
   "cell_type": "code",
   "execution_count": 10,
   "metadata": {},
   "outputs": [
    {
     "name": "stdout",
     "output_type": "stream",
     "text": [
      "[8, 9, 10, 11, 12, 13, 14]\n"
     ]
    }
   ],
   "source": [
    "test_greater70=[]\n",
    "hour_70=[]\n",
    "i=0\n",
    "j=0\n",
    "for i in range (0,len(temperatures_C)):\n",
    "    if temperatures_C[i]>=70:\n",
    "        test_greater70.append(temperatures_C[i])\n",
    "        hour_70.append(i)\n",
    "        i+=1\n",
    "    else:\n",
    "        i+=1\n",
    "\n",
    "print(hour_70)"
   ]
  },
  {
   "cell_type": "markdown",
   "metadata": {},
   "source": [
    "#### 2. Check if the list you created in step 1 has more than 4 consecutive hours. "
   ]
  },
  {
   "cell_type": "code",
   "execution_count": 11,
   "metadata": {},
   "outputs": [
    {
     "name": "stdout",
     "output_type": "stream",
     "text": [
      "True\n"
     ]
    }
   ],
   "source": [
    "i=0\n",
    "consec_4=False\n",
    "for i in range (0,len(hour_70)-4):\n",
    "    if (hour_70[i+1]==hour_70[i]+1)& (hour_70[i+2]==hour_70[i+1]+1) & (hour_70[i+3]==hour_70[i+2]+1) & (hour_70[i+4]==hour_70[i+3]+1):\n",
    "        consec_4=True\n",
    "        i+=1\n",
    "    else:\n",
    "        i+=1\n",
    "            \n",
    "print(consec_4)\n",
    "                    "
   ]
  },
  {
   "cell_type": "markdown",
   "metadata": {},
   "source": [
    "#### 3. Make the decision!\n",
    "To make your decision, check if any of the three conditions is met. Print a message to show if the cooling system needs to be changed or not."
   ]
  },
  {
   "cell_type": "code",
   "execution_count": 12,
   "metadata": {},
   "outputs": [
    {
     "name": "stdout",
     "output_type": "stream",
     "text": [
      "The cooling system needs to be changed.\n"
     ]
    }
   ],
   "source": [
    "if consec_4 == True:\n",
    "    print(\"The cooling system needs to be changed.\")\n",
    "elif max_day > 80:\n",
    "    print(\"The cooling system needs to be changed.\")\n",
    "elif temp_averg > 65:\n",
    "    print(\"The cooling system needs to be changed.\")\n",
    "else:\n",
    "    print(\"The cooling system does not need to be changed.\") "
   ]
  },
  {
   "cell_type": "markdown",
   "metadata": {},
   "source": [
    "#### 4. Find the average value of the temperature lists (ºC and ºF). What is the relation between both average values?"
   ]
  },
  {
   "cell_type": "code",
   "execution_count": 14,
   "metadata": {},
   "outputs": [
    {
     "name": "stdout",
     "output_type": "stream",
     "text": [
      "The average temperatur in C is: 60.25 °C\n",
      "The average temperatur in F is: 139.04375 °F\n",
      "The relation of 'Average Temp (in °F)= Average Temp (in °C)*1.8 + 32F°' is nearly correct.The accuracy error of the predicted average value for Temp in °F is 1.0113723198633524 %.\n"
     ]
    }
   ],
   "source": [
    "average_C = temp_averg\n",
    "average_F = sum(temperatures_F)/len(temperatures_F)\n",
    "print(\"The average temperatur in C is:\",average_C,\"°C\")\n",
    "print(\"The average temperatur in F is:\",average_F,\"°F\")\n",
    "#Test:\n",
    "F= average_C*1.8 +32\n",
    "#print(F)\n",
    "Rel=average_C/average_F\n",
    "accuracy_error = (F-average_F)/average_F\n",
    "print(\"The relation of 'Average Temp (in °F)= Average Temp (in °C)*1.8 + 32F°' is nearly correct.\"\n",
    "     \"The accuracy error of the predicted average value for Temp in °F is\", (accuracy_error)*100, \"%.\")\n"
   ]
  },
  {
   "cell_type": "markdown",
   "metadata": {},
   "source": [
    "#### 5. Find the standard deviation of the temperature lists (ºC and ºF). What is the relation between both standard deviations?"
   ]
  },
  {
   "cell_type": "code",
   "execution_count": 23,
   "metadata": {},
   "outputs": [
    {
     "name": "stdout",
     "output_type": "stream",
     "text": [
      "The standard deviation of the temperatures in °C around the mean is 18.902091484806647 °C\n",
      "The standard deviation of the temperatures in °F around the mean is 33.99469110666399 °F\n",
      "The relation between the standard deviation of the temperatures in °C and the standard deviation of the temperatures in °F is 0.556030688012378 .\n"
     ]
    }
   ],
   "source": [
    "#Variance: Average of squared deviations around the mean.\n",
    "#Standard Deviation: Square root of the variance.\n",
    "sqr_dev_C=[]\n",
    "i=0\n",
    "for i in range (0,len(temperatures_C)):\n",
    "    dev=temperatures_C[i]-average_C\n",
    "    sqr_dev_C.append(dev**2)\n",
    "    i+=1\n",
    "\n",
    "variance_C= sum(sqr_dev_C)/len(sqr_dev_C)\n",
    "standard_dev_C=variance_C**0.5\n",
    "print(\"The standard deviation of the temperatures in °C around the mean is\", standard_dev_C,\"°C\")\n",
    "\n",
    "sqr_dev_F=[]\n",
    "i=0\n",
    "for i in range (0,len(temperatures_F)):\n",
    "    dev=temperatures_F[i]-average_F\n",
    "    sqr_dev_F.append(dev**2)\n",
    "    i+=1\n",
    "\n",
    "variance_F= sum(sqr_dev_F)/len(sqr_dev_F)\n",
    "standard_dev_F=variance_F**0.5\n",
    "print(\"The standard deviation of the temperatures in °F around the mean is\", standard_dev_F,\"°F\")\n",
    "\n",
    "rel_standard_dev=standard_dev_C/standard_dev_F\n",
    "print(\"The relation between the standard deviation of the temperatures in °C and the standard\"\n",
    "      \" deviation of the temperatures in °F is\", rel_standard_dev, \".\")\n",
    "\n",
    "#Test on same ratio in averages of Temp in C and F\n",
    "#rel_averages = average_C/average_F\n",
    "#print(rel_averages)\n",
    "# --> not the same."
   ]
  },
  {
   "cell_type": "code",
   "execution_count": null,
   "metadata": {},
   "outputs": [],
   "source": []
  }
 ],
 "metadata": {
  "kernelspec": {
   "display_name": "Python 3",
   "language": "python",
   "name": "python3"
  },
  "language_info": {
   "codemirror_mode": {
    "name": "ipython",
    "version": 3
   },
   "file_extension": ".py",
   "mimetype": "text/x-python",
   "name": "python",
   "nbconvert_exporter": "python",
   "pygments_lexer": "ipython3",
   "version": "3.8.8"
  }
 },
 "nbformat": 4,
 "nbformat_minor": 2
}
