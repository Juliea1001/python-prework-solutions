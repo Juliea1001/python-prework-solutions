{
 "cells": [
  {
   "cell_type": "markdown",
   "metadata": {},
   "source": [
    "<img src=\"https://bit.ly/2VnXWr2\" width=\"100\" align=\"left\"/>"
   ]
  },
  {
   "cell_type": "markdown",
   "metadata": {},
   "source": [
    "# Robin Hood\n",
    "Robin Hood has entered a competition to win the archery contest in Sherwood. With his bow and arrows, he needs to shoot on a target and try to hit as close as possible to the center.\n",
    "\n",
    "![](images/arrows.jpg)\n",
    "\n",
    "## Context\n",
    "In this challenge, the landing position of arrows shot by archers in the competition will be represented using 2-dimensional coordinates. \n",
    "\n",
    "In the 2-dimensional space, a point can be defined by a pair of values that correspond to the horizontal coordinate (x) and the vertical coordinate (y). For example, in our case, an arrow that hits the center of the archery target will land in position (0, 0) on the coordinate axes. \n",
    "\n",
    "The space can be divided into 4 zones (quadrants): Q1, Q2, Q3, Q4. If a point is in Q1, both its x coordinate and y coordinate are positive. Any point with a null x or y coordinate is considered to not belong to any quadrant. \n",
    "\n",
    "If you want to know more about the cartesian coordinate system, you can check this [link](https://en.wikipedia.org/wiki/Cartesian_coordinate_system). \n",
    "\n",
    "## Tools\n",
    "You don't necessarily need to use all the tools. Maybe you opt to use some of them or completely different ones, they are given to help you shape the exercise. Programming exercises can be solved in many different ways.\n",
    "* Data structures: **lists, sets, tuples**\n",
    "* Conditional statements: **if-elif-else**\n",
    "* Loop: **while/for**\n",
    "* Minimum (optional sorting)\n",
    "\n",
    "## Tasks\n",
    "Robin Hood has hit the following points:"
   ]
  },
  {
   "cell_type": "code",
   "execution_count": 1,
   "metadata": {},
   "outputs": [],
   "source": [
    "points = [(4, 5), (-0, 2), (4, 7), (1, -3), (3, -2), (4, 5), (3, 2), (5, 7), (-5, 7), (2, 2), (-4, 5), (0, -2),\n",
    "          (-4, 7), (-1, 3), (-3, 2), (-4, -5), (-3, 2), (5, 7), (5, 7), (2, 2), (9, 9), (-8, -9)]"
   ]
  },
  {
   "cell_type": "markdown",
   "metadata": {},
   "source": [
    "#### 1. Robin Hood is famous for hitting an arrow with another arrow. Find the coordinates of the points where an arrow hits another arrow."
   ]
  },
  {
   "cell_type": "code",
   "execution_count": 7,
   "metadata": {},
   "outputs": [
    {
     "name": "stdout",
     "output_type": "stream",
     "text": [
      "{(-3, 2), (4, 5), (5, 7), (2, 2)}\n"
     ]
    }
   ],
   "source": [
    "i=0\n",
    "j=0\n",
    "double_arrow=[]\n",
    "for i in range (0, len(points)):\n",
    "    for j in range (0, len(points)):\n",
    "        if (points[i]== points[j]) & (i!=j):\n",
    "            double_arrow.append(points[i])\n",
    "        j+=1\n",
    "    i+=1\n",
    "    \n",
    "print(set(double_arrow))"
   ]
  },
  {
   "cell_type": "markdown",
   "metadata": {},
   "source": [
    "#### 2. Calculate how many arrows have fallen in each quadrant. \n",
    "**Note**: the arrows that fall in the axis (x=0 or y=0) don't belong to any quadrant."
   ]
  },
  {
   "cell_type": "code",
   "execution_count": 15,
   "metadata": {},
   "outputs": [
    {
     "name": "stdout",
     "output_type": "stream",
     "text": [
      "There are  10 hits in Quadrant 1.\n",
      "There are  2 hits in Quadrant 2.\n",
      "There are  2 hits in Quadrant 3.\n",
      "There are  6 hits in Quadrant 4.\n"
     ]
    }
   ],
   "source": [
    "quadr_1=[]\n",
    "quadr_2=[]\n",
    "quadr_3=[]\n",
    "quadr_4=[]\n",
    "i=0\n",
    "for i in range (0, len(points)):\n",
    "    if points[i][0] > 0:\n",
    "        if points[i][1]>0:\n",
    "            quadr_1.append(points[i])\n",
    "            i+=1\n",
    "        elif points[i][1]<0:\n",
    "            quadr_2.append(points[i])\n",
    "            i+=1\n",
    "        else:\n",
    "            i+=1\n",
    "           \n",
    "    elif points[i][0] < 0:\n",
    "        if points[i][1]>0:\n",
    "            quadr_4.append(points[i])\n",
    "            i+=1\n",
    "        elif points[i][1]<0:\n",
    "            quadr_3.append(points[i])\n",
    "            i+=1\n",
    "        else:\n",
    "            i+=1\n",
    "    else:\n",
    "        i+=1\n",
    "\n",
    "#print(quadr_1, quadr_2, quadr_3, quadr_4) \n",
    "print(\"There are \", len(quadr_1), \"hits in Quadrant 1.\")\n",
    "print(\"There are \", len(quadr_2), \"hits in Quadrant 2.\")\n",
    "print(\"There are \", len(quadr_3), \"hits in Quadrant 3.\")           \n",
    "print(\"There are \", len(quadr_4), \"hits in Quadrant 4.\")   \n",
    "        "
   ]
  },
  {
   "cell_type": "markdown",
   "metadata": {},
   "source": [
    "#### 3. Find the point closest to the center. Calculate its distance to the center. \n",
    "Take into account that there might be more than one point at the minimum distance to the center.\n",
    "\n",
    "**Hint**: Use the Euclidean distance. You can find more information about it [here](https://en.wikipedia.org/wiki/Euclidean_distance).  \n",
    "**Hint**: Defining a function that calculates the distance to the center can help."
   ]
  },
  {
   "cell_type": "code",
   "execution_count": 22,
   "metadata": {},
   "outputs": [
    {
     "name": "stdout",
     "output_type": "stream",
     "text": [
      "The closests points to the center are:  [(0, 2), (0, -2)]\n"
     ]
    }
   ],
   "source": [
    "dist_center=[]\n",
    "i=0\n",
    "j=0\n",
    "for i in range (0,len(points)):\n",
    "    dist= ((points[i][0])**2 + (points[i][1])**2)**0.5\n",
    "    dist_center.append(dist)\n",
    "    i+=1\n",
    "\n",
    "i=0\n",
    "min_points=[]\n",
    "for i in range(0,len(dist_center)):\n",
    "    if dist_center[i] == min(dist_center):\n",
    "        min_points.append(points[i])\n",
    "        i+=1\n",
    "    else:\n",
    "        i+=1\n",
    "print(\"The closests points to the center are: \", min_points)\n",
    "\n",
    "# I don´t know, wether the hits in the quadrants only should have been taken\n",
    "# but it is not extra stated, so I assume not.\n",
    "\n",
    "\n",
    "\n",
    "    \n",
    "    "
   ]
  },
  {
   "cell_type": "markdown",
   "metadata": {},
   "source": [
    "#### 4. If the archery target has a radius of 9, calculate the number of arrows that won't hit the target. \n",
    "**Hint**: Use the function created in step 3. "
   ]
  },
  {
   "cell_type": "code",
   "execution_count": 24,
   "metadata": {},
   "outputs": [
    {
     "name": "stdout",
     "output_type": "stream",
     "text": [
      "2 arrows did not hit the target.\n"
     ]
    }
   ],
   "source": [
    "i=0\n",
    "no_hit=[]\n",
    "for i in range (0,len(dist_center)):\n",
    "    if dist_center[i]> 9:\n",
    "        no_hit.append(dist_center[i])\n",
    "        i+=1\n",
    "    else:\n",
    "        i+=1\n",
    "print(len(no_hit), \"arrows did not hit the target.\")\n",
    "        "
   ]
  },
  {
   "cell_type": "code",
   "execution_count": null,
   "metadata": {},
   "outputs": [],
   "source": []
  }
 ],
 "metadata": {
  "kernelspec": {
   "display_name": "Python 3",
   "language": "python",
   "name": "python3"
  },
  "language_info": {
   "codemirror_mode": {
    "name": "ipython",
    "version": 3
   },
   "file_extension": ".py",
   "mimetype": "text/x-python",
   "name": "python",
   "nbconvert_exporter": "python",
   "pygments_lexer": "ipython3",
   "version": "3.8.8"
  }
 },
 "nbformat": 4,
 "nbformat_minor": 2
}
